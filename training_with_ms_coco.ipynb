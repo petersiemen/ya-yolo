{
 "cells": [
  {
   "cell_type": "markdown",
   "metadata": {},
   "source": [
    "# Training Yolo with MS Coco "
   ]
  },
  {
   "cell_type": "code",
   "execution_count": 1,
   "metadata": {},
   "outputs": [
    {
     "name": "stderr",
     "output_type": "stream",
     "text": [
      "[2019-11-15 08:34:00,292] {device:11} INFO - ************ Using cuda as device **************\n"
     ]
    },
    {
     "name": "stdout",
     "output_type": "stream",
     "text": [
      "True\n"
     ]
    }
   ],
   "source": [
    "# all imports\n",
    "%load_ext autoreload\n",
    "%autoreload 2\n",
    "import sys\n",
    "import os\n",
    "sys.path.insert(0, os.path.abspath('./src'))\n",
    "\n",
    "\n",
    "from torchvision.datasets import CocoDetection\n",
    "from torchvision import transforms\n",
    "\n",
    "from datasets.preprocess import *\n",
    "from datasets.YoloCocoDataset import YoloCocoDataset\n",
    "\n",
    "from yolo.yolo import Yolo\n",
    "import torch\n",
    "print(torch.cuda.is_available())\n",
    "\n"
   ]
  },
  {
   "cell_type": "code",
   "execution_count": 2,
   "metadata": {},
   "outputs": [
    {
     "name": "stdout",
     "output_type": "stream",
     "text": [
      "loading annotations into memory...\n",
      "Done (t=9.22s)\n",
      "creating index...\n",
      "index created!\n"
     ]
    }
   ],
   "source": [
    "# where to find ms coco, how to preprocess and how to batch \n",
    "\n",
    "#COCO_IMAGES_DIR = '/home/peter/datasets/coco-small/cocoapi/images/train2014'\n",
    "COCO_IMAGES_DIR = '/home/ubuntu/datasets/coco/train2014'\n",
    "#COCO_ANNOTATIONS_FILE = '/home/peter/datasets/coco-small/cocoapi/annotations/instances_train2014_10_per_category.json'\n",
    "COCO_ANNOTATIONS_FILE = '/home/ubuntu/datasets/coco/annotations/instances_train2014.json'\n",
    "\n",
    "image_and_target_transform = Compose([\n",
    "        SquashResize(416),\n",
    "        ConvertXandYToCenterOfBoundingBox(),\n",
    "        ScaleBboxRelativeToSize(416),\n",
    "        # PadToFit(255),\n",
    "        # RandomCrop(200),\n",
    "        # RandomHorizontalFlip(),,\n",
    "        CocoToTensor()\n",
    "    ])\n",
    "\n",
    "\n",
    "dataset = CocoDetection(root=COCO_IMAGES_DIR, annFile=COCO_ANNOTATIONS_FILE, transforms=image_and_target_transform)\n",
    "\n"
   ]
  },
  {
   "cell_type": "code",
   "execution_count": 3,
   "metadata": {},
   "outputs": [
    {
     "name": "stdout",
     "output_type": "stream",
     "text": [
      "Loading weights. Please Wait...\n",
      "\n"
     ]
    }
   ],
   "source": [
    "cfg_file = './cfg/yolov3.cfg'\n",
    "weight_file = './cfg/yolov3.weights'\n",
    "batch_size = 32\n",
    "\n",
    "ya_yolo_dataset = YoloCocoDataset(dataset=dataset, batch_size=batch_size)\n",
    "model = Yolo(cfg_file=cfg_file, batch_size=batch_size)\n",
    "model.load_weights(weight_file)\n"
   ]
  },
  {
   "cell_type": "code",
   "execution_count": null,
   "metadata": {},
   "outputs": [
    {
     "name": "stdout",
     "output_type": "stream",
     "text": [
      "Number of images:  82783\n",
      "Epoch: 1, Batch: 1, Avg. Loss: 1.526620239019394e-05\n",
      "Epoch: 1, Batch: 11, Avg. Loss: 0.007035233966521023\n",
      "Epoch: 1, Batch: 21, Avg. Loss: 0.006873827660610834\n",
      "Epoch: 1, Batch: 31, Avg. Loss: 0.052673455193334176\n",
      "Epoch: 1, Batch: 41, Avg. Loss: 0.00795486084165608\n",
      "Epoch: 1, Batch: 51, Avg. Loss: 0.006171065682160934\n",
      "Epoch: 1, Batch: 61, Avg. Loss: 0.007423163860176735\n",
      "Epoch: 1, Batch: 71, Avg. Loss: 0.011372890894146911\n"
     ]
    }
   ],
   "source": [
    "from yolo.training import training\n",
    "\n",
    "training(model=model, ya_yolo_dataset=ya_yolo_dataset, model_dir='./models', num_epochs=2, limit=None, debug=False, print_every=10)"
   ]
  },
  {
   "cell_type": "code",
   "execution_count": null,
   "metadata": {},
   "outputs": [],
   "source": []
  }
 ],
 "metadata": {
  "kernelspec": {
   "display_name": "Python 3",
   "language": "python",
   "name": "python3"
  },
  "language_info": {
   "codemirror_mode": {
    "name": "ipython",
    "version": 3
   },
   "file_extension": ".py",
   "mimetype": "text/x-python",
   "name": "python",
   "nbconvert_exporter": "python",
   "pygments_lexer": "ipython3",
   "version": "3.6.8"
  }
 },
 "nbformat": 4,
 "nbformat_minor": 2
}
