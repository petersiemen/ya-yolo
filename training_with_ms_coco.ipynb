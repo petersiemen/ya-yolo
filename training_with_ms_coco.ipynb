{
 "cells": [
  {
   "cell_type": "markdown",
   "metadata": {},
   "source": [
    "# Training Yolo with MS Coco "
   ]
  },
  {
   "cell_type": "code",
   "execution_count": 1,
   "metadata": {
    "pycharm": {
     "is_executing": false
    }
   },
   "outputs": [
    {
     "name": "stderr",
     "text": [
      "[2019-11-15 12:25:06,612] {device:11} INFO - ************ Using cpu as device **************\n"
     ],
     "output_type": "stream"
    },
    {
     "name": "stdout",
     "text": [
      "False\n"
     ],
     "output_type": "stream"
    }
   ],
   "source": [
    "# all imports\n",
    "%load_ext autoreload\n",
    "%autoreload 2\n",
    "import sys\n",
    "import os\n",
    "sys.path.insert(0, os.path.abspath('./src'))\n",
    "\n",
    "\n",
    "from torchvision.datasets import CocoDetection\n",
    "from torchvision import transforms\n",
    "\n",
    "from datasets.preprocess import *\n",
    "from datasets.YaYoloCocoDataset import YaYoloCocoDataset\n",
    "\n",
    "from yolo.yolo import Yolo\n",
    "import torch\n",
    "print(torch.cuda.is_available())\n",
    "\n"
   ]
  },
  {
   "cell_type": "code",
   "execution_count": 1,
   "metadata": {
    "pycharm": {
     "is_executing": false
    }
   },
   "outputs": [],
   "source": [
    "\n",
    "\n"
   ]
  },
  {
   "cell_type": "code",
   "execution_count": 3,
   "metadata": {
    "pycharm": {
     "is_executing": false
    }
   },
   "outputs": [
    {
     "name": "stdout",
     "text": [
      "loading annotations into memory...\nDone (t=0.20s)\ncreating index...\nindex created!\n",
      "Loading weights. Please Wait...\n\n"
     ],
     "output_type": "stream"
    }
   ],
   "source": [
    "cfg_file = './cfg/yolov3.cfg'\n",
    "weight_file = './cfg/yolov3.weights'\n",
    "batch_size = 32\n",
    "COCO_IMAGES_DIR = '/home/peter/datasets/coco-small/cocoapi/images/train2014'\n",
    "#COCO_IMAGES_DIR = '/home/ubuntu/datasets/coco/train2014'\n",
    "COCO_ANNOTATIONS_FILE = '/home/peter/datasets/coco-small/cocoapi/annotations/instances_train2014_10_per_category.json'\n",
    "#COCO_ANNOTATIONS_FILE = '/home/ubuntu/datasets/coco/annotations/instances_train2014.json'\n",
    "\n",
    "\n",
    "\n",
    "image_and_target_transform = Compose([\n",
    "        SquashResize(416),\n",
    "        ConvertXandYToCenterOfBoundingBox(),\n",
    "        ScaleBboxRelativeToSize(416),\n",
    "        # PadToFit(255),\n",
    "        # RandomCrop(200),\n",
    "        # RandomHorizontalFlip(),,\n",
    "        CocoToTensor()\n",
    "    ])\n",
    "\n",
    "ya_yolo_dataset = YaYoloCocoDataset(images_dir=COCO_IMAGES_DIR, \n",
    "                                    annotations_file=COCO_ANNOTATIONS_FILE,\n",
    "                                    transforms=image_and_target_transform,\n",
    "                                    batch_size=batch_size)\n",
    "model = Yolo(cfg_file=cfg_file, batch_size=batch_size)\n",
    "model.load_weights(weight_file)\n"
   ]
  },
  {
   "cell_type": "code",
   "execution_count": null,
   "metadata": {},
   "outputs": [
    {
     "name": "stdout",
     "output_type": "stream",
     "text": [
      "Number of images:  82783\n",
      "Epoch: 1, Batch: 1, Avg. Loss: 1.526620239019394e-05\n",
      "Epoch: 1, Batch: 11, Avg. Loss: 0.007035233966521023\n",
      "Epoch: 1, Batch: 21, Avg. Loss: 0.006873827660610834\n",
      "Epoch: 1, Batch: 31, Avg. Loss: 0.052673455193334176\n",
      "Epoch: 1, Batch: 41, Avg. Loss: 0.00795486084165608\n",
      "Epoch: 1, Batch: 51, Avg. Loss: 0.006171065682160934\n",
      "Epoch: 1, Batch: 61, Avg. Loss: 0.007423163860176735\n",
      "Epoch: 1, Batch: 71, Avg. Loss: 0.011372890894146911\n"
     ]
    }
   ],
   "source": [
    "from yolo.training import training\n",
    "\n",
    "training(model=model, ya_yolo_dataset=ya_yolo_dataset, model_dir='./models', num_epochs=2, limit=None, debug=False, print_every=10)"
   ]
  },
  {
   "cell_type": "code",
   "execution_count": null,
   "metadata": {},
   "outputs": [],
   "source": []
  }
 ],
 "metadata": {
  "kernelspec": {
   "display_name": "Python 3",
   "language": "python",
   "name": "python3"
  },
  "language_info": {
   "codemirror_mode": {
    "name": "ipython",
    "version": 3
   },
   "file_extension": ".py",
   "mimetype": "text/x-python",
   "name": "python",
   "nbconvert_exporter": "python",
   "pygments_lexer": "ipython3",
   "version": "3.6.8"
  },
  "pycharm": {
   "stem_cell": {
    "cell_type": "raw",
    "source": [],
    "metadata": {
     "collapsed": false
    }
   }
  }
 },
 "nbformat": 4,
 "nbformat_minor": 2
}