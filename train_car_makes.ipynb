{
 "cells": [
  {
   "cell_type": "code",
   "execution_count": 3,
   "metadata": {},
   "outputs": [
    {
     "name": "stderr",
     "output_type": "stream",
     "text": [
      "[2019-11-28 16:39:35,995] {device:11} INFO - torch.cuda.is_available() = False ... using cpu as DEVICE ...\n"
     ]
    },
    {
     "name": "stdout",
     "output_type": "stream",
     "text": [
      "The autoreload extension is already loaded. To reload it, use:\n",
      "  %reload_ext autoreload\n"
     ]
    }
   ],
   "source": [
    "# all imports\n",
    "%load_ext autoreload\n",
    "%autoreload 2\n",
    "import sys\n",
    "import os\n",
    "sys.path.insert(0, os.path.abspath('./src'))\n",
    "\n",
    "from datasets.detected_car_dataset import DetectedCareMakeDataset\n",
    "from datasets.preprocess import *\n",
    "from logging_config import *\n",
    "from yolo.yolo import Yolo\n",
    "from yolo.train import train\n",
    "\n",
    "\n"
   ]
  },
  {
   "cell_type": "code",
   "execution_count": 6,
   "metadata": {},
   "outputs": [
    {
     "ename": "NameError",
     "evalue": "name 'batch_size' is not defined",
     "output_type": "error",
     "traceback": [
      "\u001b[0;31m---------------------------------------------------------------------------\u001b[0m",
      "\u001b[0;31mNameError\u001b[0m                                 Traceback (most recent call last)",
      "\u001b[0;32m<ipython-input-6-91e3b3598626>\u001b[0m in \u001b[0;36m<module>\u001b[0;34m\u001b[0m\n\u001b[1;32m      7\u001b[0m \u001b[0;34m\u001b[0m\u001b[0m\n\u001b[1;32m      8\u001b[0m dataset = DetectedCareMakeDataset(json_file=car_make_json_file,\n\u001b[0;32m----> 9\u001b[0;31m                                   transforms=image_and_target_transform, batch_size=batch_size)\n\u001b[0m\u001b[1;32m     10\u001b[0m \u001b[0;34m\u001b[0m\u001b[0m\n\u001b[1;32m     11\u001b[0m \u001b[0mcfg_file\u001b[0m \u001b[0;34m=\u001b[0m \u001b[0mos\u001b[0m\u001b[0;34m.\u001b[0m\u001b[0mpath\u001b[0m\u001b[0;34m.\u001b[0m\u001b[0mjoin\u001b[0m\u001b[0;34m(\u001b[0m\u001b[0mHERE\u001b[0m\u001b[0;34m,\u001b[0m \u001b[0;34m'../cfg/yolov3.cfg'\u001b[0m\u001b[0;34m)\u001b[0m\u001b[0;34m\u001b[0m\u001b[0;34m\u001b[0m\u001b[0m\n",
      "\u001b[0;31mNameError\u001b[0m: name 'batch_size' is not defined"
     ]
    }
   ],
   "source": [
    "car_make_json_file = ''\n",
    "batch\n",
    "\n",
    "image_and_target_transform = Compose([\n",
    "        SquashResize(416),\n",
    "        CocoToTensor()\n",
    "])\n",
    "\n",
    "dataset = DetectedCareMakeDataset(json_file=car_make_json_file,\n",
    "                                  transforms=image_and_target_transform, batch_size=batch_size)\n",
    "\n",
    "cfg_file = os.path.join(HERE, '../cfg/yolov3.cfg')\n",
    "weight_file = os.path.join(HERE, '../cfg/yolov3.weights')\n",
    "namesfile = os.path.join(HERE, '../cfg/coco.names')\n",
    "\n",
    "model = Yolo(cfg_file=cfg_file, namesfile=namesfile, batch_size=batch_size)\n",
    "model.load_weights(weight_file)\n",
    "model.set_num_classes(dataset.get_num_classes())\n",
    "model.set_class_names(dataset.get_class_names())\n",
    "\n",
    "summary_writer = SummaryWriter(comment=f' evaluate={batch_size}')"
   ]
  },
  {
   "cell_type": "code",
   "execution_count": null,
   "metadata": {},
   "outputs": [],
   "source": []
  },
  {
   "cell_type": "code",
   "execution_count": null,
   "metadata": {},
   "outputs": [],
   "source": []
  }
 ],
 "metadata": {
  "kernelspec": {
   "display_name": "Python 3",
   "language": "python",
   "name": "python3"
  },
  "language_info": {
   "codemirror_mode": {
    "name": "ipython",
    "version": 3
   },
   "file_extension": ".py",
   "mimetype": "text/x-python",
   "name": "python",
   "nbconvert_exporter": "python",
   "pygments_lexer": "ipython3",
   "version": "3.6.8"
  }
 },
 "nbformat": 4,
 "nbformat_minor": 2
}
